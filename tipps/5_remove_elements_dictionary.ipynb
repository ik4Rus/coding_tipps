{
 "cells": [
  {
   "cell_type": "markdown",
   "metadata": {},
   "source": [
    "To easily remove a dictionary, you can use the pop function. <br>\n",
    "Use a default value if the key is not found, e.g. None, to not get errors for not existing keys."
   ]
  },
  {
   "cell_type": "code",
   "execution_count": 5,
   "metadata": {},
   "outputs": [
    {
     "name": "stdout",
     "output_type": "stream",
     "text": [
      "0.16\n",
      "None\n",
      "{'France': 0.2, 'Italy': 0.22}\n"
     ]
    }
   ],
   "source": [
    "# Example: Valued added tax for different countries\n",
    "dict_vat = {'Germany': 0.16, \n",
    "            'France': 0.2, \n",
    "            'Italy': 0.22,\n",
    "           } \n",
    "\n",
    "print(dict_vat.pop('Germany')) # pop returns the value of the key\n",
    "print(dict_vat.pop('Spain', None)) # no error, even if key not existing as None as fallback default is used\n",
    "print(dict_vat)"
   ]
  }
 ],
 "metadata": {
  "kernelspec": {
   "display_name": "Python 3 (ipykernel)",
   "language": "python",
   "name": "python3"
  },
  "language_info": {
   "codemirror_mode": {
    "name": "ipython",
    "version": 3
   },
   "file_extension": ".py",
   "mimetype": "text/x-python",
   "name": "python",
   "nbconvert_exporter": "python",
   "pygments_lexer": "ipython3",
   "version": "3.9.5"
  }
 },
 "nbformat": 4,
 "nbformat_minor": 4
}
