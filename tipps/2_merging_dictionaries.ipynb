{
 "cells": [
  {
   "cell_type": "markdown",
   "metadata": {},
   "source": [
    "You want to merge two dictionaries or update values?<br>\n",
    "The `**` syntax and `|` introduced in Python 3.9 are two more elegant ways than a `update` statement:"
   ]
  },
  {
   "cell_type": "code",
   "execution_count": 3,
   "metadata": {},
   "outputs": [
    {
     "name": "stdout",
     "output_type": "stream",
     "text": [
      "{'Germany': 0.19, 'France': 0.2, 'Italy': 0.22, 'Portugal': 0.23}\n",
      "{'Germany': 0.19, 'France': 0.2, 'Italy': 0.22, 'Portugal': 0.23}\n",
      "{'Germany': 0.19, 'France': 0.2, 'Italy': 0.22, 'Portugal': 0.23}\n"
     ]
    }
   ],
   "source": [
    "# Example: Update and merge valued added tax for different countries\n",
    "dict_vat = {'Germany': 0.16, \n",
    "            'France': 0.2, \n",
    "            'Italy': 0.22,\n",
    "           } \n",
    "dict_vat_update = {'Portugal': 0.23, \n",
    "                   'Germany': 0.19, # Germany appears twice\n",
    "                  }\n",
    "# Usage of **\n",
    "print({**dict_vat, **dict_vat_update}) # needs Python 3.5+\n",
    "# Usage of |\n",
    "print(dict_vat | dict_vat_update) # needs Python 3.9+ \n",
    "# For duplicate keys right hand side values are used\n",
    "# Usage of update\n",
    "dict_vat.update(dict_vat_update)\n",
    "print(dict_vat) # right hand side values are used for duplicate keys"
   ]
  }
 ],
 "metadata": {
  "kernelspec": {
   "display_name": "Python 3 (ipykernel)",
   "language": "python",
   "name": "python3"
  },
  "language_info": {
   "codemirror_mode": {
    "name": "ipython",
    "version": 3
   },
   "file_extension": ".py",
   "mimetype": "text/x-python",
   "name": "python",
   "nbconvert_exporter": "python",
   "pygments_lexer": "ipython3",
   "version": "3.9.5"
  }
 },
 "nbformat": 4,
 "nbformat_minor": 4
}