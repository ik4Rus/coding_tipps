{
 "cells": [
  {
   "cell_type": "markdown",
   "id": "e8626312",
   "metadata": {},
   "source": [
    "There are many cases where you want to query an element from a dictionary, but you don't know if the key exists at all. The `get` method offers a simple solution: "
   ]
  },
  {
   "cell_type": "code",
   "execution_count": 2,
   "id": "da589dac",
   "metadata": {},
   "outputs": [
    {
     "name": "stdout",
     "output_type": "stream",
     "text": [
      "0.16\n",
      "None\n"
     ]
    }
   ],
   "source": [
    "# Example: Valued added tax for different countries\n",
    "dict_vat = {'Germany': 0.16, \n",
    "            'France': 0.2, \n",
    "            'Italy': 0.22,\n",
    "           } \n",
    "\n",
    "print(dict_vat.get('Germany')) # Return value if exists\n",
    "print(dict_vat.get('Spain')) # Return None if not existing"
   ]
  }
 ],
 "metadata": {
  "kernelspec": {
   "display_name": "Python 3 (ipykernel)",
   "language": "python",
   "name": "python3"
  },
  "language_info": {
   "codemirror_mode": {
    "name": "ipython",
    "version": 3
   },
   "file_extension": ".py",
   "mimetype": "text/x-python",
   "name": "python",
   "nbconvert_exporter": "python",
   "pygments_lexer": "ipython3",
   "version": "3.9.5"
  }
 },
 "nbformat": 4,
 "nbformat_minor": 5
}
