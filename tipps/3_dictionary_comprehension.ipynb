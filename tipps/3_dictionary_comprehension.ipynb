{
 "cells": [
  {
   "cell_type": "markdown",
   "id": "5f45b020",
   "metadata": {},
   "source": [
    "Not only list comprehensions make life easier in Python, but also dictionary comprehensions that work the same way: "
   ]
  },
  {
   "cell_type": "code",
   "execution_count": 14,
   "id": "dde802a7",
   "metadata": {},
   "outputs": [
    {
     "name": "stdout",
     "output_type": "stream",
     "text": [
      "Adding 1 to each element: {'Germany': 1.16, 'France': 1.2, 'Italy': 1.22}\n",
      "Apply a filter in addition: {'France': 1.2, 'Italy': 1.22}\n"
     ]
    }
   ],
   "source": [
    "# Example: Valued added tax for different countries\n",
    "dict_vat = {'Germany': 0.16, \n",
    "            'France': 0.2, \n",
    "            'Italy': 0.22,\n",
    "           } \n",
    "\n",
    "dict_vat_multiplier = {key:(1+value) for (key, value) in dict_vat.items()}\n",
    "print(f'Adding 1 to each element: {dict_vat_multiplier}')\n",
    "\n",
    "dict_vat_multiplier_filtered = {key:(1+value) for (key, value) in dict_vat.items() if value >= 0.2}\n",
    "print(f'Apply a filter in addition: {dict_vat_multiplier_filtered}')"
   ]
  }
 ],
 "metadata": {
  "kernelspec": {
   "display_name": "Python 3 (ipykernel)",
   "language": "python",
   "name": "python3"
  },
  "language_info": {
   "codemirror_mode": {
    "name": "ipython",
    "version": 3
   },
   "file_extension": ".py",
   "mimetype": "text/x-python",
   "name": "python",
   "nbconvert_exporter": "python",
   "pygments_lexer": "ipython3",
   "version": "3.9.5"
  }
 },
 "nbformat": 4,
 "nbformat_minor": 5
}
